{
  "nbformat": 4,
  "nbformat_minor": 0,
  "metadata": {
    "colab": {
      "provenance": [],
      "authorship_tag": "ABX9TyO0U3Cq59eDBetuHZOKZ8wH",
      "include_colab_link": true
    },
    "kernelspec": {
      "name": "python3",
      "display_name": "Python 3"
    },
    "language_info": {
      "name": "python"
    }
  },
  "cells": [
    {
      "cell_type": "markdown",
      "metadata": {
        "id": "view-in-github",
        "colab_type": "text"
      },
      "source": [
        "<a href=\"https://colab.research.google.com/github/nafeesopi/30DaysOfPythonCode/blob/main/30DaysOfPythonCode.ipynb\" target=\"_parent\"><img src=\"https://colab.research.google.com/assets/colab-badge.svg\" alt=\"Open In Colab\"/></a>"
      ]
    },
    {
      "cell_type": "code",
      "execution_count": null,
      "metadata": {
        "colab": {
          "base_uri": "https://localhost:8080/"
        },
        "id": "36zHQwSWp-zZ",
        "outputId": "27610f4d-eea5-43ad-cdea-8af0ba2663eb"
      },
      "outputs": [
        {
          "output_type": "stream",
          "name": "stdout",
          "text": [
            "Hello World\n"
          ]
        }
      ],
      "source": [
        "print(\"Hello World\")"
      ]
    },
    {
      "cell_type": "code",
      "source": [
        "#Single line comment"
      ],
      "metadata": {
        "id": "8DA5VeV84lwP"
      },
      "execution_count": null,
      "outputs": []
    },
    {
      "cell_type": "code",
      "source": [
        "\"\"\"\n",
        "This is a multi-line comment.\n",
        "It spans multiple lines.\n",
        "\"\"\""
      ],
      "metadata": {
        "colab": {
          "base_uri": "https://localhost:8080/",
          "height": 36
        },
        "id": "oQ25ypAu4lro",
        "outputId": "0fb16aaa-9c72-4b89-d95e-dc8a96b0ee89"
      },
      "execution_count": null,
      "outputs": [
        {
          "output_type": "execute_result",
          "data": {
            "text/plain": [
              "'\\nThis is a multi-line comment.\\nIt spans multiple lines.\\n'"
            ],
            "application/vnd.google.colaboratory.intrinsic+json": {
              "type": "string"
            }
          },
          "metadata": {},
          "execution_count": 5
        }
      ]
    },
    {
      "cell_type": "code",
      "source": [
        "if True:\n",
        "   print(\"This is intended correctly\")\n",
        "else:\n",
        "   print(\"This will not be printed\")"
      ],
      "metadata": {
        "colab": {
          "base_uri": "https://localhost:8080/"
        },
        "id": "5M2w45sb4lpR",
        "outputId": "4a2a6180-82d4-4d44-9d20-5de6fe6291b9"
      },
      "execution_count": null,
      "outputs": [
        {
          "output_type": "stream",
          "name": "stdout",
          "text": [
            "This is intended correctly\n"
          ]
        }
      ]
    },
    {
      "cell_type": "code",
      "source": [
        "if True:\n",
        "    print(\"testing if i know intendation\")\n",
        "else:\n",
        "    print(\"i know it\")"
      ],
      "metadata": {
        "colab": {
          "base_uri": "https://localhost:8080/"
        },
        "id": "C_jazKc74lm4",
        "outputId": "b3ee1bb6-f179-4fc2-d4df-7b545d0330a0"
      },
      "execution_count": null,
      "outputs": [
        {
          "output_type": "stream",
          "name": "stdout",
          "text": [
            "testing if i know intendation\n"
          ]
        }
      ]
    },
    {
      "cell_type": "code",
      "source": [
        "x= 5\n",
        "name = \"nafees\"\n",
        "is_valid = True\n",
        "float_number = 3.14\n",
        "integer_num = 10\n",
        "text = \"nafees practices python\""
      ],
      "metadata": {
        "id": "P2Y6mKfj4lj3"
      },
      "execution_count": null,
      "outputs": []
    },
    {
      "cell_type": "code",
      "source": [
        "print(\"my name is\", name)"
      ],
      "metadata": {
        "colab": {
          "base_uri": "https://localhost:8080/"
        },
        "id": "s7vGP0HF4lhP",
        "outputId": "026c1a12-71c1-4692-b8fa-ec94ae4b3c70"
      },
      "execution_count": null,
      "outputs": [
        {
          "output_type": "stream",
          "name": "stdout",
          "text": [
            "my name is nafees\n"
          ]
        }
      ]
    },
    {
      "cell_type": "code",
      "source": [
        "a = 1; b= 2; c=a+b"
      ],
      "metadata": {
        "id": "YPCnf9-J4lWh"
      },
      "execution_count": null,
      "outputs": []
    },
    {
      "cell_type": "code",
      "source": [
        "print(c)"
      ],
      "metadata": {
        "colab": {
          "base_uri": "https://localhost:8080/"
        },
        "id": "eVe6CXVJDX5k",
        "outputId": "daceeebe-cfc0-42de-8313-92bb75a9b5fb"
      },
      "execution_count": null,
      "outputs": [
        {
          "output_type": "stream",
          "name": "stdout",
          "text": [
            "3\n"
          ]
        }
      ]
    },
    {
      "cell_type": "code",
      "source": [
        "x = 5\n",
        "y = str(x)\n",
        "z = float(y)\n",
        "print(y)"
      ],
      "metadata": {
        "colab": {
          "base_uri": "https://localhost:8080/"
        },
        "id": "dL0-KfffEbfz",
        "outputId": "d412b15c-15ee-4963-e62a-08525b84d657"
      },
      "execution_count": null,
      "outputs": [
        {
          "output_type": "stream",
          "name": "stdout",
          "text": [
            "5\n"
          ]
        }
      ]
    },
    {
      "cell_type": "code",
      "source": [
        "age = 30\n",
        "if age > 31:\n",
        "  print(\"you are old\")\n",
        "else:\n",
        "  print(\"you are young\")"
      ],
      "metadata": {
        "colab": {
          "base_uri": "https://localhost:8080/"
        },
        "id": "W2LIXMQ1EbdU",
        "outputId": "3d71f998-0499-44de-aa29-5d06eddd1372"
      },
      "execution_count": null,
      "outputs": [
        {
          "output_type": "stream",
          "name": "stdout",
          "text": [
            "you are young\n"
          ]
        }
      ]
    },
    {
      "cell_type": "code",
      "source": [
        "a = 5\n",
        "b = 3\n",
        "sum = a+b\n",
        "print(\"Sum:\", sum)"
      ],
      "metadata": {
        "colab": {
          "base_uri": "https://localhost:8080/"
        },
        "id": "SeQwmbOYjon_",
        "outputId": "1897d852-c5ff-480e-fb39-4e9a29293b29"
      },
      "execution_count": 1,
      "outputs": [
        {
          "output_type": "stream",
          "name": "stdout",
          "text": [
            "Sum: 8\n"
          ]
        }
      ]
    },
    {
      "cell_type": "code",
      "source": [
        "score = 85\n",
        "if score >= 80:\n",
        "    print(\"A+\")\n",
        "elif score >= 70:\n",
        "    print(\"A\")\n",
        "else:\n",
        "    print(\"B\")"
      ],
      "metadata": {
        "colab": {
          "base_uri": "https://localhost:8080/"
        },
        "id": "cKJE2-Q6kUq-",
        "outputId": "d1661e1d-3435-4166-8383-345a8af1a4db"
      },
      "execution_count": 2,
      "outputs": [
        {
          "output_type": "stream",
          "name": "stdout",
          "text": [
            "A+\n"
          ]
        }
      ]
    },
    {
      "cell_type": "code",
      "source": [
        "for i in range(1,6):\n",
        "    print(\"Counting:\", i)"
      ],
      "metadata": {
        "colab": {
          "base_uri": "https://localhost:8080/"
        },
        "id": "1Z21bGXUkUoP",
        "outputId": "88eaa8ee-00a3-4c0f-91b8-5dd230dc7521"
      },
      "execution_count": 3,
      "outputs": [
        {
          "output_type": "stream",
          "name": "stdout",
          "text": [
            "Counting: 1\n",
            "Counting: 2\n",
            "Counting: 3\n",
            "Counting: 4\n",
            "Counting: 5\n"
          ]
        }
      ]
    },
    {
      "cell_type": "code",
      "source": [
        "count = 0\n",
        "while count < 3:\n",
        "    print(\"This is loop number\", count)\n",
        "    count += 1"
      ],
      "metadata": {
        "colab": {
          "base_uri": "https://localhost:8080/"
        },
        "id": "ff_veup0kUlQ",
        "outputId": "f8cf0631-b29b-470a-93f1-9be466825a06"
      },
      "execution_count": 4,
      "outputs": [
        {
          "output_type": "stream",
          "name": "stdout",
          "text": [
            "This is loop number 0\n",
            "This is loop number 1\n",
            "This is loop number 2\n"
          ]
        }
      ]
    },
    {
      "cell_type": "code",
      "source": [
        "fruits = [\"apple\", \"banana\", \"cherry\"]\n",
        "for fruit in fruits:\n",
        "    print(\"I like\", fruit)"
      ],
      "metadata": {
        "colab": {
          "base_uri": "https://localhost:8080/"
        },
        "id": "TlB1lp6rkUhv",
        "outputId": "9556dde7-116d-4de5-fab0-677f4c768ed1"
      },
      "execution_count": 5,
      "outputs": [
        {
          "output_type": "stream",
          "name": "stdout",
          "text": [
            "I like apple\n",
            "I like banana\n",
            "I like cherry\n"
          ]
        }
      ]
    },
    {
      "cell_type": "code",
      "source": [
        "def square(number):\n",
        "    return number * number\n",
        "result = square(4)\n",
        "print(\"The square is\", result)"
      ],
      "metadata": {
        "colab": {
          "base_uri": "https://localhost:8080/"
        },
        "id": "NiuHMJN4kUbm",
        "outputId": "1626aef5-8e3f-402e-e395-ffcd6e8f8636"
      },
      "execution_count": 7,
      "outputs": [
        {
          "output_type": "stream",
          "name": "stdout",
          "text": [
            "The square is 16\n"
          ]
        }
      ]
    },
    {
      "cell_type": "code",
      "source": [
        "person = {\"name\": \"Alice\", \"age\": 30}\n",
        "print(\"Name:\", person[\"name\"])\n",
        "print(\"Age:\", person[\"age\"])"
      ],
      "metadata": {
        "colab": {
          "base_uri": "https://localhost:8080/"
        },
        "id": "Tr3yZhO2kUY3",
        "outputId": "284d5b05-145f-45c7-be25-96f1a2c48306"
      },
      "execution_count": 8,
      "outputs": [
        {
          "output_type": "stream",
          "name": "stdout",
          "text": [
            "Name: Alice\n",
            "Age: 30\n"
          ]
        }
      ]
    }
  ]
}